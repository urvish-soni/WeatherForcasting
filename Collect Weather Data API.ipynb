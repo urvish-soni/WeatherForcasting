{
 "cells": [
  {
   "cell_type": "code",
   "execution_count": 1,
   "metadata": {},
   "outputs": [],
   "source": [
    "import os\n",
    "import pickle\n",
    "import time\n",
    "from collections import namedtuple\n",
    "from datetime import datetime, timedelta\n",
    "\n",
    "import pandas as pd\n",
    "import requests\n",
    "\n",
    "import matplotlib.pyplot as plt\n",
    "from pyprind import ProgBar\n",
    "\n",
    "%matplotlib inline"
   ]
  },
  {
   "cell_type": "code",
   "execution_count": 2,
   "metadata": {},
   "outputs": [],
   "source": [
    "API_KEY = os.environ.get('MY_API_KEY')\n",
    "BASE_URL = 'http://api.wunderground.com/api/{}/history_{}/q/TX/Round_Rock.json'"
   ]
  },
  {
   "cell_type": "code",
   "execution_count": 3,
   "metadata": {},
   "outputs": [],
   "source": [
    "features = [\n",
    "    \"date\", \"meantempm\", \"meandewptm\", \"meanpressurem\", \"maxhumidity\",\n",
    "    \"minhumidity\", \"maxtempm\", \"mintempm\", \"maxdewptm\", \"mindewptm\",\n",
    "    \"maxpressurem\", \"minpressurem\", \"precipm\"\n",
    "]\n",
    "DailySummary = namedtuple('DailySummary', features)"
   ]
  },
  {
   "cell_type": "code",
   "execution_count": 4,
   "metadata": {},
   "outputs": [],
   "source": [
    "def extract_weather_data(url, api_key, target_date, days):\n",
    "    \"\"\"Call Wunderground API to extract weather data.\"\"\"\n",
    "    records = []\n",
    "    bar = ProgBar(days)\n",
    "    for _ in range(days):\n",
    "        request = BASE_URL.format(API_KEY, target_date.strftime('%Y%m%d'))\n",
    "        response = requests.get(request)\n",
    "        if response.status_code == 200:\n",
    "            data = response.json()['history']['dailysummary'][0]\n",
    "            records.append(DailySummary(\n",
    "                date=target_date,\n",
    "                meantempm=data['meantempm'],\n",
    "                meandewptm=data['meandewptm'],\n",
    "                meanpressurem=data['meanpressurem'],\n",
    "                maxhumidity=data['maxhumidity'],\n",
    "                minhumidity=data['minhumidity'],\n",
    "                maxtempm=data['maxtempm'],\n",
    "                mintempm=data['mintempm'],\n",
    "                maxdewptm=data['maxdewptm'],\n",
    "                mindewptm=data['mindewptm'],\n",
    "                maxpressurem=data['maxpressurem'],\n",
    "                minpressurem=data['minpressurem'],\n",
    "                precipm=data['precipm']))\n",
    "        time.sleep(6)\n",
    "        bar.update()\n",
    "        target_date += timedelta(days=1)\n",
    "    return records"
   ]
  },
  {
   "cell_type": "code",
   "execution_count": 5,
   "metadata": {},
   "outputs": [],
   "source": [
    "# Do not run this cell when collecting data on day 2\n",
    "def get_target_date():\n",
    "    \"\"\"Return target date 1000 days prior to current date.\"\"\"\n",
    "    current_date = datetime.now()\n",
    "    target_date = current_date - timedelta(days=1000)\n",
    "    return target_date\n",
    "\n",
    "target_date = get_target_date()"
   ]
  },
  {
   "cell_type": "code",
   "execution_count": 6,
   "metadata": {},
   "outputs": [
    {
     "name": "stderr",
     "output_type": "stream",
     "text": [
      "0% [##############################] 100% | ETA: 00:00:00\n",
      "Total time elapsed: 00:53:56\n"
     ]
    }
   ],
   "source": [
    "records = extract_weather_data(BASE_URL, API_KEY, target_date, 500)"
   ]
  },
  {
   "cell_type": "code",
   "execution_count": 7,
   "metadata": {},
   "outputs": [
    {
     "data": {
      "text/plain": [
       "[DailySummary(date=datetime.datetime(2015, 10, 3, 22, 13, 6, 559948), meantempm='21', meandewptm='6', meanpressurem='1012', maxhumidity='63', minhumidity='20', maxtempm='29', mintempm='14', maxdewptm='8', mindewptm='4', maxpressurem='1014', minpressurem='1010', precipm='0.00'),\n",
       " DailySummary(date=datetime.datetime(2015, 10, 4, 22, 13, 6, 559948), meantempm='22', meandewptm='8', meanpressurem='1015', maxhumidity='63', minhumidity='25', maxtempm='29', mintempm='15', maxdewptm='10', mindewptm='7', maxpressurem='1017', minpressurem='1013', precipm='0.00'),\n",
       " DailySummary(date=datetime.datetime(2015, 10, 5, 22, 13, 6, 559948), meantempm='24', meandewptm='11', meanpressurem='1018', maxhumidity='64', minhumidity='35', maxtempm='29', mintempm='19', maxdewptm='13', mindewptm='8', maxpressurem='1020', minpressurem='1015', precipm='0.00'),\n",
       " DailySummary(date=datetime.datetime(2015, 10, 6, 22, 13, 6, 559948), meantempm='23', meandewptm='11', meanpressurem='1019', maxhumidity='73', minhumidity='25', maxtempm='30', mintempm='17', maxdewptm='14', mindewptm='8', maxpressurem='1022', minpressurem='1017', precipm='0.00'),\n",
       " DailySummary(date=datetime.datetime(2015, 10, 7, 22, 13, 6, 559948), meantempm='24', meandewptm='13', meanpressurem='1017', maxhumidity='72', minhumidity='31', maxtempm='32', mintempm='17', maxdewptm='16', mindewptm='10', maxpressurem='1020', minpressurem='1015', precipm='0.00')]"
      ]
     },
     "execution_count": 7,
     "metadata": {},
     "output_type": "execute_result"
    }
   ],
   "source": [
    "# Look at first five records\n",
    "records[:5]"
   ]
  },
  {
   "cell_type": "code",
   "execution_count": 8,
   "metadata": {
    "scrolled": true
   },
   "outputs": [
    {
     "data": {
      "text/plain": [
       "500"
      ]
     },
     "execution_count": 8,
     "metadata": {},
     "output_type": "execute_result"
    }
   ],
   "source": [
    "len(records)"
   ]
  },
  {
   "cell_type": "code",
   "execution_count": 9,
   "metadata": {},
   "outputs": [],
   "source": [
    "# save records list\n",
    "with open('records_pt1.pkl', 'wb') as f:\n",
    "    pickle.dump(records, f)"
   ]
  },
  {
   "cell_type": "code",
   "execution_count": 5,
   "metadata": {},
   "outputs": [],
   "source": [
    "# load records list - still need to run cells 1-4\n",
    "with open('records_pt1.pkl', 'rb') as fp:\n",
    "    records = pickle.load(fp)"
   ]
  },
  {
   "cell_type": "code",
   "execution_count": 6,
   "metadata": {},
   "outputs": [
    {
     "data": {
      "text/plain": [
       "DailySummary(date=datetime.datetime(2017, 2, 13, 22, 13, 6, 559948), meantempm='20', meandewptm='13', meanpressurem='1018', maxhumidity='94', minhumidity='42', maxtempm='25', mintempm='16', maxdewptm='18', mindewptm='5', maxpressurem='1022', minpressurem='1012', precipm='0.00')"
      ]
     },
     "execution_count": 6,
     "metadata": {},
     "output_type": "execute_result"
    }
   ],
   "source": [
    "# Inspect last record to date; next target date should be plus one day\n",
    "records[-1]"
   ]
  },
  {
   "cell_type": "code",
   "execution_count": 7,
   "metadata": {},
   "outputs": [],
   "source": [
    "# set new target date based on date above plus one day\n",
    "target_date = datetime(2017, 2, 14)"
   ]
  },
  {
   "cell_type": "code",
   "execution_count": 8,
   "metadata": {},
   "outputs": [
    {
     "name": "stderr",
     "output_type": "stream",
     "text": [
      "0% [##############################] 100% | ETA: 00:00:00\n",
      "Total time elapsed: 00:53:38\n"
     ]
    }
   ],
   "source": [
    "records += extract_weather_data(BASE_URL, API_KEY, target_date, 500)"
   ]
  },
  {
   "cell_type": "code",
   "execution_count": 9,
   "metadata": {
    "scrolled": false
   },
   "outputs": [
    {
     "data": {
      "text/plain": [
       "1000"
      ]
     },
     "execution_count": 9,
     "metadata": {},
     "output_type": "execute_result"
    }
   ],
   "source": [
    "len(records)"
   ]
  },
  {
   "cell_type": "code",
   "execution_count": 10,
   "metadata": {},
   "outputs": [],
   "source": [
    "# with open('records_pt2.pkl', 'wb') as f:\n",
    "#     pickle.dump(records, f)"
   ]
  },
  {
   "cell_type": "code",
   "execution_count": 11,
   "metadata": {},
   "outputs": [],
   "source": [
    "# load records list - still need to run cells 1 and 3\n",
    "# with open('records_pt2.pkl', 'rb') as fp:\n",
    "#     records = pickle.load(fp)"
   ]
  },
  {
   "cell_type": "code",
   "execution_count": 12,
   "metadata": {},
   "outputs": [],
   "source": [
    "df = pd.DataFrame(records, columns=features).set_index('date')"
   ]
  },
  {
   "cell_type": "code",
   "execution_count": 13,
   "metadata": {},
   "outputs": [
    {
     "data": {
      "text/html": [
       "<div>\n",
       "<style scoped>\n",
       "    .dataframe tbody tr th:only-of-type {\n",
       "        vertical-align: middle;\n",
       "    }\n",
       "\n",
       "    .dataframe tbody tr th {\n",
       "        vertical-align: top;\n",
       "    }\n",
       "\n",
       "    .dataframe thead th {\n",
       "        text-align: right;\n",
       "    }\n",
       "</style>\n",
       "<table border=\"1\" class=\"dataframe\">\n",
       "  <thead>\n",
       "    <tr style=\"text-align: right;\">\n",
       "      <th></th>\n",
       "      <th>meantempm</th>\n",
       "      <th>meandewptm</th>\n",
       "    </tr>\n",
       "    <tr>\n",
       "      <th>date</th>\n",
       "      <th></th>\n",
       "      <th></th>\n",
       "    </tr>\n",
       "  </thead>\n",
       "  <tbody>\n",
       "    <tr>\n",
       "      <th>2015-10-03 22:13:06.559948</th>\n",
       "      <td>21</td>\n",
       "      <td>6</td>\n",
       "    </tr>\n",
       "    <tr>\n",
       "      <th>2015-10-04 22:13:06.559948</th>\n",
       "      <td>22</td>\n",
       "      <td>8</td>\n",
       "    </tr>\n",
       "    <tr>\n",
       "      <th>2015-10-05 22:13:06.559948</th>\n",
       "      <td>24</td>\n",
       "      <td>11</td>\n",
       "    </tr>\n",
       "    <tr>\n",
       "      <th>2015-10-06 22:13:06.559948</th>\n",
       "      <td>23</td>\n",
       "      <td>11</td>\n",
       "    </tr>\n",
       "    <tr>\n",
       "      <th>2015-10-07 22:13:06.559948</th>\n",
       "      <td>24</td>\n",
       "      <td>13</td>\n",
       "    </tr>\n",
       "    <tr>\n",
       "      <th>2015-10-08 22:13:06.559948</th>\n",
       "      <td>26</td>\n",
       "      <td>17</td>\n",
       "    </tr>\n",
       "    <tr>\n",
       "      <th>2015-10-09 22:13:06.559948</th>\n",
       "      <td>26</td>\n",
       "      <td>17</td>\n",
       "    </tr>\n",
       "    <tr>\n",
       "      <th>2015-10-10 22:13:06.559948</th>\n",
       "      <td>24</td>\n",
       "      <td>14</td>\n",
       "    </tr>\n",
       "    <tr>\n",
       "      <th>2015-10-11 22:13:06.559948</th>\n",
       "      <td>26</td>\n",
       "      <td>16</td>\n",
       "    </tr>\n",
       "    <tr>\n",
       "      <th>2015-10-12 22:13:06.559948</th>\n",
       "      <td>28</td>\n",
       "      <td>19</td>\n",
       "    </tr>\n",
       "  </tbody>\n",
       "</table>\n",
       "</div>"
      ],
      "text/plain": [
       "                           meantempm meandewptm\n",
       "date                                           \n",
       "2015-10-03 22:13:06.559948        21          6\n",
       "2015-10-04 22:13:06.559948        22          8\n",
       "2015-10-05 22:13:06.559948        24         11\n",
       "2015-10-06 22:13:06.559948        23         11\n",
       "2015-10-07 22:13:06.559948        24         13\n",
       "2015-10-08 22:13:06.559948        26         17\n",
       "2015-10-09 22:13:06.559948        26         17\n",
       "2015-10-10 22:13:06.559948        24         14\n",
       "2015-10-11 22:13:06.559948        26         16\n",
       "2015-10-12 22:13:06.559948        28         19"
      ]
     },
     "execution_count": 13,
     "metadata": {},
     "output_type": "execute_result"
    }
   ],
   "source": [
    "tmp = df[['meantempm', 'meandewptm']].head(10)\n",
    "tmp"
   ]
  },
  {
   "cell_type": "code",
   "execution_count": 14,
   "metadata": {},
   "outputs": [
    {
     "data": {
      "text/html": [
       "<div>\n",
       "<style scoped>\n",
       "    .dataframe tbody tr th:only-of-type {\n",
       "        vertical-align: middle;\n",
       "    }\n",
       "\n",
       "    .dataframe tbody tr th {\n",
       "        vertical-align: top;\n",
       "    }\n",
       "\n",
       "    .dataframe thead th {\n",
       "        text-align: right;\n",
       "    }\n",
       "</style>\n",
       "<table border=\"1\" class=\"dataframe\">\n",
       "  <thead>\n",
       "    <tr style=\"text-align: right;\">\n",
       "      <th></th>\n",
       "      <th>meantempm</th>\n",
       "      <th>meandewptm</th>\n",
       "      <th>meantempm_1</th>\n",
       "    </tr>\n",
       "    <tr>\n",
       "      <th>date</th>\n",
       "      <th></th>\n",
       "      <th></th>\n",
       "      <th></th>\n",
       "    </tr>\n",
       "  </thead>\n",
       "  <tbody>\n",
       "    <tr>\n",
       "      <th>2015-10-03 22:13:06.559948</th>\n",
       "      <td>21</td>\n",
       "      <td>6</td>\n",
       "      <td>NaN</td>\n",
       "    </tr>\n",
       "    <tr>\n",
       "      <th>2015-10-04 22:13:06.559948</th>\n",
       "      <td>22</td>\n",
       "      <td>8</td>\n",
       "      <td>21</td>\n",
       "    </tr>\n",
       "    <tr>\n",
       "      <th>2015-10-05 22:13:06.559948</th>\n",
       "      <td>24</td>\n",
       "      <td>11</td>\n",
       "      <td>22</td>\n",
       "    </tr>\n",
       "    <tr>\n",
       "      <th>2015-10-06 22:13:06.559948</th>\n",
       "      <td>23</td>\n",
       "      <td>11</td>\n",
       "      <td>24</td>\n",
       "    </tr>\n",
       "    <tr>\n",
       "      <th>2015-10-07 22:13:06.559948</th>\n",
       "      <td>24</td>\n",
       "      <td>13</td>\n",
       "      <td>23</td>\n",
       "    </tr>\n",
       "    <tr>\n",
       "      <th>2015-10-08 22:13:06.559948</th>\n",
       "      <td>26</td>\n",
       "      <td>17</td>\n",
       "      <td>24</td>\n",
       "    </tr>\n",
       "    <tr>\n",
       "      <th>2015-10-09 22:13:06.559948</th>\n",
       "      <td>26</td>\n",
       "      <td>17</td>\n",
       "      <td>26</td>\n",
       "    </tr>\n",
       "    <tr>\n",
       "      <th>2015-10-10 22:13:06.559948</th>\n",
       "      <td>24</td>\n",
       "      <td>14</td>\n",
       "      <td>26</td>\n",
       "    </tr>\n",
       "    <tr>\n",
       "      <th>2015-10-11 22:13:06.559948</th>\n",
       "      <td>26</td>\n",
       "      <td>16</td>\n",
       "      <td>24</td>\n",
       "    </tr>\n",
       "    <tr>\n",
       "      <th>2015-10-12 22:13:06.559948</th>\n",
       "      <td>28</td>\n",
       "      <td>19</td>\n",
       "      <td>26</td>\n",
       "    </tr>\n",
       "  </tbody>\n",
       "</table>\n",
       "</div>"
      ],
      "text/plain": [
       "                           meantempm meandewptm meantempm_1\n",
       "date                                                       \n",
       "2015-10-03 22:13:06.559948        21          6         NaN\n",
       "2015-10-04 22:13:06.559948        22          8          21\n",
       "2015-10-05 22:13:06.559948        24         11          22\n",
       "2015-10-06 22:13:06.559948        23         11          24\n",
       "2015-10-07 22:13:06.559948        24         13          23\n",
       "2015-10-08 22:13:06.559948        26         17          24\n",
       "2015-10-09 22:13:06.559948        26         17          26\n",
       "2015-10-10 22:13:06.559948        24         14          26\n",
       "2015-10-11 22:13:06.559948        26         16          24\n",
       "2015-10-12 22:13:06.559948        28         19          26"
      ]
     },
     "execution_count": 14,
     "metadata": {},
     "output_type": "execute_result"
    }
   ],
   "source": [
    "# 1 day prior\n",
    "N = 1\n",
    "\n",
    "# target measurement of mean temperature\n",
    "feature = 'meantempm'\n",
    "\n",
    "# total number of rows\n",
    "rows = tmp.shape[0]\n",
    "\n",
    "# a list representing Nth prior measurements of feature\n",
    "nth_prior_measurements = tmp[feature].shift(periods=N)\n",
    "\n",
    "# makee a new column name of feature_N and add to DataFrame\n",
    "col_name = f'{feature}_{N}'\n",
    "tmp[col_name] = nth_prior_measurements\n",
    "tmp"
   ]
  },
  {
   "cell_type": "code",
   "execution_count": 15,
   "metadata": {},
   "outputs": [],
   "source": [
    "def derive_nth_day_feature(df, feature, N):\n",
    "    nth_prior_measurements = df[feature].shift(periods=N)\n",
    "    col_name = f'{feature}_{N}'\n",
    "    df[col_name] = nth_prior_measurements"
   ]
  },
  {
   "cell_type": "code",
   "execution_count": 16,
   "metadata": {},
   "outputs": [],
   "source": [
    "for feature in features:\n",
    "    if feature != 'date':\n",
    "        for N in range(1, 4):\n",
    "            derive_nth_day_feature(df, feature, N)"
   ]
  },
  {
   "cell_type": "code",
   "execution_count": 17,
   "metadata": {},
   "outputs": [
    {
     "data": {
      "text/plain": [
       "Index(['meantempm', 'meandewptm', 'meanpressurem', 'maxhumidity',\n",
       "       'minhumidity', 'maxtempm', 'mintempm', 'maxdewptm', 'mindewptm',\n",
       "       'maxpressurem', 'minpressurem', 'precipm', 'meantempm_1', 'meantempm_2',\n",
       "       'meantempm_3', 'meandewptm_1', 'meandewptm_2', 'meandewptm_3',\n",
       "       'meanpressurem_1', 'meanpressurem_2', 'meanpressurem_3',\n",
       "       'maxhumidity_1', 'maxhumidity_2', 'maxhumidity_3', 'minhumidity_1',\n",
       "       'minhumidity_2', 'minhumidity_3', 'maxtempm_1', 'maxtempm_2',\n",
       "       'maxtempm_3', 'mintempm_1', 'mintempm_2', 'mintempm_3', 'maxdewptm_1',\n",
       "       'maxdewptm_2', 'maxdewptm_3', 'mindewptm_1', 'mindewptm_2',\n",
       "       'mindewptm_3', 'maxpressurem_1', 'maxpressurem_2', 'maxpressurem_3',\n",
       "       'minpressurem_1', 'minpressurem_2', 'minpressurem_3', 'precipm_1',\n",
       "       'precipm_2', 'precipm_3'],\n",
       "      dtype='object')"
      ]
     },
     "execution_count": 17,
     "metadata": {},
     "output_type": "execute_result"
    }
   ],
   "source": [
    "df.columns"
   ]
  },
  {
   "cell_type": "code",
   "execution_count": 18,
   "metadata": {},
   "outputs": [
    {
     "data": {
      "text/plain": [
       "Index(['meantempm', 'maxtempm', 'mintempm', 'meantempm_1', 'meantempm_2',\n",
       "       'meantempm_3', 'meandewptm_1', 'meandewptm_2', 'meandewptm_3',\n",
       "       'meanpressurem_1', 'meanpressurem_2', 'meanpressurem_3',\n",
       "       'maxhumidity_1', 'maxhumidity_2', 'maxhumidity_3', 'minhumidity_1',\n",
       "       'minhumidity_2', 'minhumidity_3', 'maxtempm_1', 'maxtempm_2',\n",
       "       'maxtempm_3', 'mintempm_1', 'mintempm_2', 'mintempm_3', 'maxdewptm_1',\n",
       "       'maxdewptm_2', 'maxdewptm_3', 'mindewptm_1', 'mindewptm_2',\n",
       "       'mindewptm_3', 'maxpressurem_1', 'maxpressurem_2', 'maxpressurem_3',\n",
       "       'minpressurem_1', 'minpressurem_2', 'minpressurem_3', 'precipm_1',\n",
       "       'precipm_2', 'precipm_3'],\n",
       "      dtype='object')"
      ]
     },
     "execution_count": 18,
     "metadata": {},
     "output_type": "execute_result"
    }
   ],
   "source": [
    "# make list of original features without meantempm, mintempm, and maxtempm\n",
    "to_remove = [feature\n",
    "             for feature in features\n",
    "             if feature not in ['meantempm', 'mintempm', 'maxtempm']]\n",
    "\n",
    "# make a list of columns to keep\n",
    "to_keep = [col for col in df.columns if col not in to_remove]\n",
    "\n",
    "# select only the columns in to_keep and assign to df\n",
    "df = df[to_keep]\n",
    "df.columns"
   ]
  },
  {
   "cell_type": "code",
   "execution_count": 19,
   "metadata": {},
   "outputs": [
    {
     "name": "stdout",
     "output_type": "stream",
     "text": [
      "<class 'pandas.core.frame.DataFrame'>\n",
      "DatetimeIndex: 1000 entries, 2015-10-03 22:13:06.559948 to 2018-06-28 00:00:00\n",
      "Data columns (total 39 columns):\n",
      "meantempm          1000 non-null object\n",
      "maxtempm           1000 non-null object\n",
      "mintempm           1000 non-null object\n",
      "meantempm_1        999 non-null object\n",
      "meantempm_2        998 non-null object\n",
      "meantempm_3        997 non-null object\n",
      "meandewptm_1       999 non-null object\n",
      "meandewptm_2       998 non-null object\n",
      "meandewptm_3       997 non-null object\n",
      "meanpressurem_1    999 non-null object\n",
      "meanpressurem_2    998 non-null object\n",
      "meanpressurem_3    997 non-null object\n",
      "maxhumidity_1      999 non-null object\n",
      "maxhumidity_2      998 non-null object\n",
      "maxhumidity_3      997 non-null object\n",
      "minhumidity_1      999 non-null object\n",
      "minhumidity_2      998 non-null object\n",
      "minhumidity_3      997 non-null object\n",
      "maxtempm_1         999 non-null object\n",
      "maxtempm_2         998 non-null object\n",
      "maxtempm_3         997 non-null object\n",
      "mintempm_1         999 non-null object\n",
      "mintempm_2         998 non-null object\n",
      "mintempm_3         997 non-null object\n",
      "maxdewptm_1        999 non-null object\n",
      "maxdewptm_2        998 non-null object\n",
      "maxdewptm_3        997 non-null object\n",
      "mindewptm_1        999 non-null object\n",
      "mindewptm_2        998 non-null object\n",
      "mindewptm_3        997 non-null object\n",
      "maxpressurem_1     999 non-null object\n",
      "maxpressurem_2     998 non-null object\n",
      "maxpressurem_3     997 non-null object\n",
      "minpressurem_1     999 non-null object\n",
      "minpressurem_2     998 non-null object\n",
      "minpressurem_3     997 non-null object\n",
      "precipm_1          999 non-null object\n",
      "precipm_2          998 non-null object\n",
      "precipm_3          997 non-null object\n",
      "dtypes: object(39)\n",
      "memory usage: 312.5+ KB\n"
     ]
    }
   ],
   "source": [
    "df.info()"
   ]
  },
  {
   "cell_type": "code",
   "execution_count": 20,
   "metadata": {},
   "outputs": [
    {
     "name": "stdout",
     "output_type": "stream",
     "text": [
      "<class 'pandas.core.frame.DataFrame'>\n",
      "DatetimeIndex: 1000 entries, 2015-10-03 22:13:06.559948 to 2018-06-28 00:00:00\n",
      "Data columns (total 39 columns):\n",
      "meantempm          997 non-null float64\n",
      "maxtempm           997 non-null float64\n",
      "mintempm           997 non-null float64\n",
      "meantempm_1        996 non-null float64\n",
      "meantempm_2        995 non-null float64\n",
      "meantempm_3        994 non-null float64\n",
      "meandewptm_1       996 non-null float64\n",
      "meandewptm_2       995 non-null float64\n",
      "meandewptm_3       994 non-null float64\n",
      "meanpressurem_1    994 non-null float64\n",
      "meanpressurem_2    993 non-null float64\n",
      "meanpressurem_3    992 non-null float64\n",
      "maxhumidity_1      996 non-null float64\n",
      "maxhumidity_2      995 non-null float64\n",
      "maxhumidity_3      994 non-null float64\n",
      "minhumidity_1      996 non-null float64\n",
      "minhumidity_2      995 non-null float64\n",
      "minhumidity_3      994 non-null float64\n",
      "maxtempm_1         996 non-null float64\n",
      "maxtempm_2         995 non-null float64\n",
      "maxtempm_3         994 non-null float64\n",
      "mintempm_1         996 non-null float64\n",
      "mintempm_2         995 non-null float64\n",
      "mintempm_3         994 non-null float64\n",
      "maxdewptm_1        996 non-null float64\n",
      "maxdewptm_2        995 non-null float64\n",
      "maxdewptm_3        994 non-null float64\n",
      "mindewptm_1        996 non-null float64\n",
      "mindewptm_2        995 non-null float64\n",
      "mindewptm_3        994 non-null float64\n",
      "maxpressurem_1     994 non-null float64\n",
      "maxpressurem_2     993 non-null float64\n",
      "maxpressurem_3     992 non-null float64\n",
      "minpressurem_1     994 non-null float64\n",
      "minpressurem_2     993 non-null float64\n",
      "minpressurem_3     992 non-null float64\n",
      "precipm_1          999 non-null float64\n",
      "precipm_2          998 non-null float64\n",
      "precipm_3          997 non-null float64\n",
      "dtypes: float64(39)\n",
      "memory usage: 312.5 KB\n"
     ]
    }
   ],
   "source": [
    "df = df.apply(pd.to_numeric, errors='coerce')\n",
    "df.info()"
   ]
  },
  {
   "cell_type": "code",
   "execution_count": 21,
   "metadata": {},
   "outputs": [
    {
     "data": {
      "text/html": [
       "<div>\n",
       "<style scoped>\n",
       "    .dataframe tbody tr th:only-of-type {\n",
       "        vertical-align: middle;\n",
       "    }\n",
       "\n",
       "    .dataframe tbody tr th {\n",
       "        vertical-align: top;\n",
       "    }\n",
       "\n",
       "    .dataframe thead th {\n",
       "        text-align: right;\n",
       "    }\n",
       "</style>\n",
       "<table border=\"1\" class=\"dataframe\">\n",
       "  <thead>\n",
       "    <tr style=\"text-align: right;\">\n",
       "      <th></th>\n",
       "      <th>count</th>\n",
       "      <th>mean</th>\n",
       "      <th>std</th>\n",
       "      <th>min</th>\n",
       "      <th>25%</th>\n",
       "      <th>50%</th>\n",
       "      <th>75%</th>\n",
       "      <th>max</th>\n",
       "      <th>outliers</th>\n",
       "    </tr>\n",
       "  </thead>\n",
       "  <tbody>\n",
       "    <tr>\n",
       "      <th>maxhumidity_1</th>\n",
       "      <td>996.0</td>\n",
       "      <td>94.326305</td>\n",
       "      <td>10.732047</td>\n",
       "      <td>45.0</td>\n",
       "      <td>94.0</td>\n",
       "      <td>100.0</td>\n",
       "      <td>100.0</td>\n",
       "      <td>100.00</td>\n",
       "      <td>True</td>\n",
       "    </tr>\n",
       "    <tr>\n",
       "      <th>maxhumidity_2</th>\n",
       "      <td>995.0</td>\n",
       "      <td>94.320603</td>\n",
       "      <td>10.735934</td>\n",
       "      <td>45.0</td>\n",
       "      <td>94.0</td>\n",
       "      <td>100.0</td>\n",
       "      <td>100.0</td>\n",
       "      <td>100.00</td>\n",
       "      <td>True</td>\n",
       "    </tr>\n",
       "    <tr>\n",
       "      <th>maxhumidity_3</th>\n",
       "      <td>994.0</td>\n",
       "      <td>94.314889</td>\n",
       "      <td>10.739825</td>\n",
       "      <td>45.0</td>\n",
       "      <td>94.0</td>\n",
       "      <td>100.0</td>\n",
       "      <td>100.0</td>\n",
       "      <td>100.00</td>\n",
       "      <td>True</td>\n",
       "    </tr>\n",
       "    <tr>\n",
       "      <th>minpressurem_1</th>\n",
       "      <td>994.0</td>\n",
       "      <td>1014.230382</td>\n",
       "      <td>5.858541</td>\n",
       "      <td>996.0</td>\n",
       "      <td>1011.0</td>\n",
       "      <td>1014.0</td>\n",
       "      <td>1017.0</td>\n",
       "      <td>1037.00</td>\n",
       "      <td>True</td>\n",
       "    </tr>\n",
       "    <tr>\n",
       "      <th>minpressurem_2</th>\n",
       "      <td>993.0</td>\n",
       "      <td>1014.231621</td>\n",
       "      <td>5.861363</td>\n",
       "      <td>996.0</td>\n",
       "      <td>1011.0</td>\n",
       "      <td>1014.0</td>\n",
       "      <td>1017.0</td>\n",
       "      <td>1037.00</td>\n",
       "      <td>True</td>\n",
       "    </tr>\n",
       "    <tr>\n",
       "      <th>minpressurem_3</th>\n",
       "      <td>992.0</td>\n",
       "      <td>1014.231855</td>\n",
       "      <td>5.864315</td>\n",
       "      <td>996.0</td>\n",
       "      <td>1011.0</td>\n",
       "      <td>1014.0</td>\n",
       "      <td>1017.0</td>\n",
       "      <td>1037.00</td>\n",
       "      <td>True</td>\n",
       "    </tr>\n",
       "    <tr>\n",
       "      <th>precipm_1</th>\n",
       "      <td>999.0</td>\n",
       "      <td>1.419109</td>\n",
       "      <td>7.958652</td>\n",
       "      <td>0.0</td>\n",
       "      <td>0.0</td>\n",
       "      <td>0.0</td>\n",
       "      <td>0.0</td>\n",
       "      <td>131.57</td>\n",
       "      <td>True</td>\n",
       "    </tr>\n",
       "    <tr>\n",
       "      <th>precipm_2</th>\n",
       "      <td>998.0</td>\n",
       "      <td>1.420531</td>\n",
       "      <td>7.962515</td>\n",
       "      <td>0.0</td>\n",
       "      <td>0.0</td>\n",
       "      <td>0.0</td>\n",
       "      <td>0.0</td>\n",
       "      <td>131.57</td>\n",
       "      <td>True</td>\n",
       "    </tr>\n",
       "    <tr>\n",
       "      <th>precipm_3</th>\n",
       "      <td>997.0</td>\n",
       "      <td>1.421956</td>\n",
       "      <td>7.966384</td>\n",
       "      <td>0.0</td>\n",
       "      <td>0.0</td>\n",
       "      <td>0.0</td>\n",
       "      <td>0.0</td>\n",
       "      <td>131.57</td>\n",
       "      <td>True</td>\n",
       "    </tr>\n",
       "  </tbody>\n",
       "</table>\n",
       "</div>"
      ],
      "text/plain": [
       "                count         mean        std    min     25%     50%     75%  \\\n",
       "maxhumidity_1   996.0    94.326305  10.732047   45.0    94.0   100.0   100.0   \n",
       "maxhumidity_2   995.0    94.320603  10.735934   45.0    94.0   100.0   100.0   \n",
       "maxhumidity_3   994.0    94.314889  10.739825   45.0    94.0   100.0   100.0   \n",
       "minpressurem_1  994.0  1014.230382   5.858541  996.0  1011.0  1014.0  1017.0   \n",
       "minpressurem_2  993.0  1014.231621   5.861363  996.0  1011.0  1014.0  1017.0   \n",
       "minpressurem_3  992.0  1014.231855   5.864315  996.0  1011.0  1014.0  1017.0   \n",
       "precipm_1       999.0     1.419109   7.958652    0.0     0.0     0.0     0.0   \n",
       "precipm_2       998.0     1.420531   7.962515    0.0     0.0     0.0     0.0   \n",
       "precipm_3       997.0     1.421956   7.966384    0.0     0.0     0.0     0.0   \n",
       "\n",
       "                    max  outliers  \n",
       "maxhumidity_1    100.00      True  \n",
       "maxhumidity_2    100.00      True  \n",
       "maxhumidity_3    100.00      True  \n",
       "minpressurem_1  1037.00      True  \n",
       "minpressurem_2  1037.00      True  \n",
       "minpressurem_3  1037.00      True  \n",
       "precipm_1        131.57      True  \n",
       "precipm_2        131.57      True  \n",
       "precipm_3        131.57      True  "
      ]
     },
     "execution_count": 21,
     "metadata": {},
     "output_type": "execute_result"
    }
   ],
   "source": [
    "# Call describe on df and transpose it due to the large number of columns\n",
    "spread = df.describe().T\n",
    "\n",
    "# precalculate interquartile range for ease of use in next calculation\n",
    "IQR = spread['75%'] - spread['25%']\n",
    "\n",
    "# create an outliers column which is either 3 IQRs below the first quartile or\n",
    "# 3 IQRs above the third quartile\n",
    "spread['outliers'] = (spread['min'] <\n",
    "                      (spread['25%'] -\n",
    "                       (3 * IQR))) | (spread['max'] >\n",
    "                                      (spread['75%'] + 3 * IQR))\n",
    "\n",
    "# just display the features containing extreame outliers\n",
    "spread.loc[spread.outliers, ]"
   ]
  },
  {
   "cell_type": "code",
   "execution_count": 22,
   "metadata": {},
   "outputs": [],
   "source": [
    "# iterate over the precip columns\n",
    "for precip_col in ['precipm_1', 'precipm_2', 'precipm_3']:\n",
    "    # create a boolean array of values representing nans\n",
    "    missing_vals = pd.isnull(df[precip_col])\n",
    "    df[precip_col][missing_vals] = 0"
   ]
  },
  {
   "cell_type": "code",
   "execution_count": 23,
   "metadata": {},
   "outputs": [],
   "source": [
    "df = df.dropna()"
   ]
  },
  {
   "cell_type": "code",
   "execution_count": 24,
   "metadata": {},
   "outputs": [
    {
     "data": {
      "image/png": "[encoded data removed]",
      "text/plain": [
       "<Figure size 1008x576 with 1 Axes>"
      ]
     },
     "metadata": {},
     "output_type": "display_data"
    }
   ],
   "source": [
    "fig, ax = plt.subplots(figsize = (14, 8))\n",
    "ax.hist(df.maxhumidity_1)\n",
    "ax.set_title('Distribution of maxhumidity_1')\n",
    "ax.set_xlabel('maxhumidity_1')\n",
    "ax.grid()"
   ]
  },
  {
   "cell_type": "code",
   "execution_count": 25,
   "metadata": {},
   "outputs": [
    {
     "data": {
      "image/png": "[encoded data removed]",
      "text/plain": [
       "<Figure size 1008x576 with 1 Axes>"
      ]
     },
     "metadata": {},
     "output_type": "display_data"
    }
   ],
   "source": [
    "fig, ax = plt.subplots(figsize = (14, 8))\n",
    "ax.hist(df.minpressurem_1)\n",
    "ax.set_title('Distribution of minpressurem_1')\n",
    "ax.set_xlabel('minpressurem_1')\n",
    "ax.grid()"
   ]
  },
  {
   "cell_type": "code",
   "execution_count": 26,
   "metadata": {},
   "outputs": [],
   "source": [
    "# import pickle\n",
    "with open('end-part1_df.pkl', 'wb') as f:\n",
    "    pickle.dump(df, f)"
   ]
  }
 ],
 "metadata": {
  "kernelspec": {
   "display_name": "Python 3",
   "language": "python",
   "name": "python3"
  },
  "language_info": {
   "codemirror_mode": {
    "name": "ipython",
    "version": 3
   },
   "file_extension": ".py",
   "mimetype": "text/x-python",
   "name": "python",
   "nbconvert_exporter": "python",
   "pygments_lexer": "ipython3",
   "version": "3.6.5"
  }
 },
 "nbformat": 4,
 "nbformat_minor": 2
}
